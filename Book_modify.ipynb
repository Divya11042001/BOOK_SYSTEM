{
 "cells": [
  {
   "cell_type": "code",
   "execution_count": 1,
   "id": "13264d5d",
   "metadata": {},
   "outputs": [],
   "source": [
    "import numpy as np #numerical computing\n",
    "import pandas as pd #data manipulation and analysis\n",
    "\n",
    "import warnings\n",
    "warnings.filterwarnings('ignore')\n"
   ]
  },
  {
   "cell_type": "code",
   "execution_count": 2,
   "id": "a19f7953",
   "metadata": {},
   "outputs": [],
   "source": [
    "#books,users and rating table\n",
    "data=pd.read_excel('my_new.xlsx')\n"
   ]
  },
  {
   "cell_type": "code",
   "execution_count": 3,
   "id": "4aeccbec",
   "metadata": {},
   "outputs": [
    {
     "data": {
      "text/plain": [
       "(241932, 7)"
      ]
     },
     "execution_count": 3,
     "metadata": {},
     "output_type": "execute_result"
    }
   ],
   "source": [
    "data.shape"
   ]
  },
  {
   "cell_type": "code",
   "execution_count": 4,
   "id": "8d60086b",
   "metadata": {},
   "outputs": [
    {
     "data": {
      "text/html": [
       "<div>\n",
       "<style scoped>\n",
       "    .dataframe tbody tr th:only-of-type {\n",
       "        vertical-align: middle;\n",
       "    }\n",
       "\n",
       "    .dataframe tbody tr th {\n",
       "        vertical-align: top;\n",
       "    }\n",
       "\n",
       "    .dataframe thead th {\n",
       "        text-align: right;\n",
       "    }\n",
       "</style>\n",
       "<table border=\"1\" class=\"dataframe\">\n",
       "  <thead>\n",
       "    <tr style=\"text-align: right;\">\n",
       "      <th></th>\n",
       "      <th>Unnamed: 0</th>\n",
       "      <th>Book-Title</th>\n",
       "      <th>Edition</th>\n",
       "      <th>Book-Author</th>\n",
       "      <th>Image-URL-M</th>\n",
       "      <th>Reviews</th>\n",
       "      <th>Ratings</th>\n",
       "    </tr>\n",
       "  </thead>\n",
       "  <tbody>\n",
       "    <tr>\n",
       "      <th>0</th>\n",
       "      <td>0.0</td>\n",
       "      <td>A Light in the Storm: The Civil War Diary of ...</td>\n",
       "      <td>English</td>\n",
       "      <td>Karen Hesse</td>\n",
       "      <td>http://images.amazon.com/images/P/0590567330.0...</td>\n",
       "      <td>4</td>\n",
       "      <td>1.125</td>\n",
       "    </tr>\n",
       "    <tr>\n",
       "      <th>1</th>\n",
       "      <td>1.0</td>\n",
       "      <td>Always Have Popsicles</td>\n",
       "      <td>English</td>\n",
       "      <td>Rebecca Harvin</td>\n",
       "      <td>http://images.amazon.com/images/P/0964147726.0...</td>\n",
       "      <td>1</td>\n",
       "      <td>0.000</td>\n",
       "    </tr>\n",
       "    <tr>\n",
       "      <th>2</th>\n",
       "      <td>2.0</td>\n",
       "      <td>Apple Magic (The Collector's series)</td>\n",
       "      <td>English</td>\n",
       "      <td>Martina Boudreau</td>\n",
       "      <td>http://images.amazon.com/images/P/0942320093.0...</td>\n",
       "      <td>1</td>\n",
       "      <td>0.000</td>\n",
       "    </tr>\n",
       "    <tr>\n",
       "      <th>3</th>\n",
       "      <td>3.0</td>\n",
       "      <td>Ask Lily (Young Women of Faith: Lily Series, ...</td>\n",
       "      <td>English</td>\n",
       "      <td>Nancy N. Rue</td>\n",
       "      <td>http://images.amazon.com/images/P/0310232546.0...</td>\n",
       "      <td>1</td>\n",
       "      <td>4.000</td>\n",
       "    </tr>\n",
       "    <tr>\n",
       "      <th>4</th>\n",
       "      <td>4.0</td>\n",
       "      <td>Beyond IBM: Leadership Marketing and Finance ...</td>\n",
       "      <td>English</td>\n",
       "      <td>Lou Mobley</td>\n",
       "      <td>http://images.amazon.com/images/P/0962295701.0...</td>\n",
       "      <td>1</td>\n",
       "      <td>0.000</td>\n",
       "    </tr>\n",
       "    <tr>\n",
       "      <th>5</th>\n",
       "      <td>5.0</td>\n",
       "      <td>Clifford Visita El Hospital (Clifford El Gran...</td>\n",
       "      <td>English</td>\n",
       "      <td>Norman Bridwell</td>\n",
       "      <td>http://images.amazon.com/images/P/0439188970.0...</td>\n",
       "      <td>1</td>\n",
       "      <td>0.000</td>\n",
       "    </tr>\n",
       "    <tr>\n",
       "      <th>6</th>\n",
       "      <td>6.0</td>\n",
       "      <td>Dark Justice</td>\n",
       "      <td>English</td>\n",
       "      <td>Jack Higgins</td>\n",
       "      <td>http://images.amazon.com/images/P/0399151788.0...</td>\n",
       "      <td>1</td>\n",
       "      <td>5.000</td>\n",
       "    </tr>\n",
       "  </tbody>\n",
       "</table>\n",
       "</div>"
      ],
      "text/plain": [
       "   Unnamed: 0                                         Book-Title  Edition  \\\n",
       "0         0.0   A Light in the Storm: The Civil War Diary of ...  English   \n",
       "1         1.0                              Always Have Popsicles  English   \n",
       "2         2.0               Apple Magic (The Collector's series)  English   \n",
       "3         3.0   Ask Lily (Young Women of Faith: Lily Series, ...  English   \n",
       "4         4.0   Beyond IBM: Leadership Marketing and Finance ...  English   \n",
       "5         5.0   Clifford Visita El Hospital (Clifford El Gran...  English   \n",
       "6         6.0                                       Dark Justice  English   \n",
       "\n",
       "        Book-Author                                        Image-URL-M  \\\n",
       "0       Karen Hesse  http://images.amazon.com/images/P/0590567330.0...   \n",
       "1    Rebecca Harvin  http://images.amazon.com/images/P/0964147726.0...   \n",
       "2  Martina Boudreau  http://images.amazon.com/images/P/0942320093.0...   \n",
       "3      Nancy N. Rue  http://images.amazon.com/images/P/0310232546.0...   \n",
       "4        Lou Mobley  http://images.amazon.com/images/P/0962295701.0...   \n",
       "5   Norman Bridwell  http://images.amazon.com/images/P/0439188970.0...   \n",
       "6      Jack Higgins  http://images.amazon.com/images/P/0399151788.0...   \n",
       "\n",
       "  Reviews  Ratings  \n",
       "0       4    1.125  \n",
       "1       1    0.000  \n",
       "2       1    0.000  \n",
       "3       1    4.000  \n",
       "4       1    0.000  \n",
       "5       1    0.000  \n",
       "6       1    5.000  "
      ]
     },
     "execution_count": 4,
     "metadata": {},
     "output_type": "execute_result"
    }
   ],
   "source": [
    "data.head(7)"
   ]
  },
  {
   "cell_type": "code",
   "execution_count": 5,
   "id": "607307b7",
   "metadata": {},
   "outputs": [],
   "source": [
    "data.drop(['Unnamed: 0'],axis=1,inplace=True) #dropping unnecessary columns"
   ]
  },
  {
   "cell_type": "code",
   "execution_count": 6,
   "id": "8b21b09d",
   "metadata": {
    "scrolled": true
   },
   "outputs": [
    {
     "data": {
      "text/plain": [
       "Book-Title          0\n",
       "Edition        239520\n",
       "Book-Author       387\n",
       "Image-URL-M    175541\n",
       "Reviews            86\n",
       "Ratings            86\n",
       "dtype: int64"
      ]
     },
     "execution_count": 6,
     "metadata": {},
     "output_type": "execute_result"
    }
   ],
   "source": [
    "data.isnull().sum()"
   ]
  },
  {
   "cell_type": "code",
   "execution_count": 7,
   "id": "16fb3d39",
   "metadata": {},
   "outputs": [],
   "source": [
    "data = data.dropna(subset=['Image-URL-M'])"
   ]
  },
  {
   "cell_type": "code",
   "execution_count": 8,
   "id": "edb55450",
   "metadata": {},
   "outputs": [
    {
     "data": {
      "text/plain": [
       "Book-Title         0\n",
       "Edition        63992\n",
       "Book-Author      387\n",
       "Image-URL-M        0\n",
       "Reviews           86\n",
       "Ratings           86\n",
       "dtype: int64"
      ]
     },
     "execution_count": 8,
     "metadata": {},
     "output_type": "execute_result"
    }
   ],
   "source": [
    "data.isnull().sum()"
   ]
  },
  {
   "cell_type": "code",
   "execution_count": 9,
   "id": "f1a435f4",
   "metadata": {},
   "outputs": [],
   "source": [
    "# Fill missing values in 'reviews' with zero\n",
    "data['Reviews'].fillna(0, inplace=True)"
   ]
  },
  {
   "cell_type": "code",
   "execution_count": 10,
   "id": "59f09961",
   "metadata": {},
   "outputs": [],
   "source": [
    "data['Ratings'].fillna(0, inplace=True)"
   ]
  },
  {
   "cell_type": "code",
   "execution_count": 11,
   "id": "9fec847e",
   "metadata": {},
   "outputs": [],
   "source": [
    "data['Book-Author'].fillna('Unknown', inplace=True)"
   ]
  },
  {
   "cell_type": "code",
   "execution_count": 12,
   "id": "ebc3e970",
   "metadata": {},
   "outputs": [],
   "source": [
    "data['Edition'].fillna('English', inplace=True)"
   ]
  },
  {
   "cell_type": "code",
   "execution_count": 13,
   "id": "8398f9e0",
   "metadata": {},
   "outputs": [
    {
     "data": {
      "text/plain": [
       "52"
      ]
     },
     "execution_count": 13,
     "metadata": {},
     "output_type": "execute_result"
    }
   ],
   "source": [
    "data['Book-Title'].duplicated().sum() # check duplicates"
   ]
  },
  {
   "cell_type": "code",
   "execution_count": 14,
   "id": "aada8ddb",
   "metadata": {},
   "outputs": [],
   "source": [
    "data = data.drop_duplicates(subset=['Book-Title'], keep='first')#remove duplicates"
   ]
  },
  {
   "cell_type": "code",
   "execution_count": 15,
   "id": "ce2c45a0",
   "metadata": {},
   "outputs": [
    {
     "data": {
      "text/plain": [
       "0"
      ]
     },
     "execution_count": 15,
     "metadata": {},
     "output_type": "execute_result"
    }
   ],
   "source": [
    "data['Book-Title'].duplicated().sum() "
   ]
  },
  {
   "cell_type": "code",
   "execution_count": 16,
   "id": "20fe72db",
   "metadata": {},
   "outputs": [
    {
     "data": {
      "text/html": [
       "<div>\n",
       "<style scoped>\n",
       "    .dataframe tbody tr th:only-of-type {\n",
       "        vertical-align: middle;\n",
       "    }\n",
       "\n",
       "    .dataframe tbody tr th {\n",
       "        vertical-align: top;\n",
       "    }\n",
       "\n",
       "    .dataframe thead th {\n",
       "        text-align: right;\n",
       "    }\n",
       "</style>\n",
       "<table border=\"1\" class=\"dataframe\">\n",
       "  <thead>\n",
       "    <tr style=\"text-align: right;\">\n",
       "      <th></th>\n",
       "      <th>Book-Title</th>\n",
       "      <th>Edition</th>\n",
       "      <th>Book-Author</th>\n",
       "      <th>Image-URL-M</th>\n",
       "      <th>Reviews</th>\n",
       "      <th>Ratings</th>\n",
       "    </tr>\n",
       "  </thead>\n",
       "  <tbody>\n",
       "    <tr>\n",
       "      <th>0</th>\n",
       "      <td>A Light in the Storm: The Civil War Diary of ...</td>\n",
       "      <td>English</td>\n",
       "      <td>Karen Hesse</td>\n",
       "      <td>http://images.amazon.com/images/P/0590567330.0...</td>\n",
       "      <td>4</td>\n",
       "      <td>1.125</td>\n",
       "    </tr>\n",
       "    <tr>\n",
       "      <th>1</th>\n",
       "      <td>Always Have Popsicles</td>\n",
       "      <td>English</td>\n",
       "      <td>Rebecca Harvin</td>\n",
       "      <td>http://images.amazon.com/images/P/0964147726.0...</td>\n",
       "      <td>1</td>\n",
       "      <td>0.000</td>\n",
       "    </tr>\n",
       "    <tr>\n",
       "      <th>2</th>\n",
       "      <td>Apple Magic (The Collector's series)</td>\n",
       "      <td>English</td>\n",
       "      <td>Martina Boudreau</td>\n",
       "      <td>http://images.amazon.com/images/P/0942320093.0...</td>\n",
       "      <td>1</td>\n",
       "      <td>0.000</td>\n",
       "    </tr>\n",
       "    <tr>\n",
       "      <th>3</th>\n",
       "      <td>Ask Lily (Young Women of Faith: Lily Series, ...</td>\n",
       "      <td>English</td>\n",
       "      <td>Nancy N. Rue</td>\n",
       "      <td>http://images.amazon.com/images/P/0310232546.0...</td>\n",
       "      <td>1</td>\n",
       "      <td>4.000</td>\n",
       "    </tr>\n",
       "    <tr>\n",
       "      <th>4</th>\n",
       "      <td>Beyond IBM: Leadership Marketing and Finance ...</td>\n",
       "      <td>English</td>\n",
       "      <td>Lou Mobley</td>\n",
       "      <td>http://images.amazon.com/images/P/0962295701.0...</td>\n",
       "      <td>1</td>\n",
       "      <td>0.000</td>\n",
       "    </tr>\n",
       "    <tr>\n",
       "      <th>...</th>\n",
       "      <td>...</td>\n",
       "      <td>...</td>\n",
       "      <td>...</td>\n",
       "      <td>...</td>\n",
       "      <td>...</td>\n",
       "      <td>...</td>\n",
       "    </tr>\n",
       "    <tr>\n",
       "      <th>241927</th>\n",
       "      <td>Pakharmaya Maruti Chitampalli</td>\n",
       "      <td>Marathi</td>\n",
       "      <td>Unknown</td>\n",
       "      <td>Pakharmaya Maruti Chitampalli/</td>\n",
       "      <td>27</td>\n",
       "      <td>4.700</td>\n",
       "    </tr>\n",
       "    <tr>\n",
       "      <th>241928</th>\n",
       "      <td>Ananddayee Bagale Maruti Chitampalli [Jan 01, ...</td>\n",
       "      <td>Marathi</td>\n",
       "      <td>Unknown</td>\n",
       "      <td>Ananddayee Bagale Maruti Chitampalli [Jan 01, ...</td>\n",
       "      <td>15</td>\n",
       "      <td>4.500</td>\n",
       "    </tr>\n",
       "    <tr>\n",
       "      <th>241929</th>\n",
       "      <td>Suvarnagarud Maruti Chitampalli [Jan 01, 2013] …</td>\n",
       "      <td>Marathi</td>\n",
       "      <td>Unknown</td>\n",
       "      <td>Suvarnagarud Maruti Chitampalli [Jan 01, 2013] …/</td>\n",
       "      <td>16</td>\n",
       "      <td>4.300</td>\n",
       "    </tr>\n",
       "    <tr>\n",
       "      <th>241930</th>\n",
       "      <td>Shabdancha Dhan Maruti Chitampalli [Jan 01, 20...</td>\n",
       "      <td>Marathi</td>\n",
       "      <td>Unknown</td>\n",
       "      <td>Shabdancha Dhan Maruti Chitampalli [Jan 01, 20...</td>\n",
       "      <td>8</td>\n",
       "      <td>4.500</td>\n",
       "    </tr>\n",
       "    <tr>\n",
       "      <th>241931</th>\n",
       "      <td>Ranawata Maruti Chitampalli [Jan 01, 2013] …</td>\n",
       "      <td>Marathi</td>\n",
       "      <td>Unknown</td>\n",
       "      <td>Ranawata Maruti Chitampalli [Jan 01, 2013] …/</td>\n",
       "      <td>44</td>\n",
       "      <td>4.500</td>\n",
       "    </tr>\n",
       "  </tbody>\n",
       "</table>\n",
       "<p>66339 rows × 6 columns</p>\n",
       "</div>"
      ],
      "text/plain": [
       "                                               Book-Title  Edition  \\\n",
       "0        A Light in the Storm: The Civil War Diary of ...  English   \n",
       "1                                   Always Have Popsicles  English   \n",
       "2                    Apple Magic (The Collector's series)  English   \n",
       "3        Ask Lily (Young Women of Faith: Lily Series, ...  English   \n",
       "4        Beyond IBM: Leadership Marketing and Finance ...  English   \n",
       "...                                                   ...      ...   \n",
       "241927                      Pakharmaya Maruti Chitampalli  Marathi   \n",
       "241928  Ananddayee Bagale Maruti Chitampalli [Jan 01, ...  Marathi   \n",
       "241929   Suvarnagarud Maruti Chitampalli [Jan 01, 2013] …  Marathi   \n",
       "241930  Shabdancha Dhan Maruti Chitampalli [Jan 01, 20...  Marathi   \n",
       "241931       Ranawata Maruti Chitampalli [Jan 01, 2013] …  Marathi   \n",
       "\n",
       "             Book-Author                                        Image-URL-M  \\\n",
       "0            Karen Hesse  http://images.amazon.com/images/P/0590567330.0...   \n",
       "1         Rebecca Harvin  http://images.amazon.com/images/P/0964147726.0...   \n",
       "2       Martina Boudreau  http://images.amazon.com/images/P/0942320093.0...   \n",
       "3           Nancy N. Rue  http://images.amazon.com/images/P/0310232546.0...   \n",
       "4             Lou Mobley  http://images.amazon.com/images/P/0962295701.0...   \n",
       "...                  ...                                                ...   \n",
       "241927           Unknown                     Pakharmaya Maruti Chitampalli/   \n",
       "241928           Unknown  Ananddayee Bagale Maruti Chitampalli [Jan 01, ...   \n",
       "241929           Unknown  Suvarnagarud Maruti Chitampalli [Jan 01, 2013] …/   \n",
       "241930           Unknown  Shabdancha Dhan Maruti Chitampalli [Jan 01, 20...   \n",
       "241931           Unknown      Ranawata Maruti Chitampalli [Jan 01, 2013] …/   \n",
       "\n",
       "       Reviews  Ratings  \n",
       "0            4    1.125  \n",
       "1            1    0.000  \n",
       "2            1    0.000  \n",
       "3            1    4.000  \n",
       "4            1    0.000  \n",
       "...        ...      ...  \n",
       "241927      27    4.700  \n",
       "241928      15    4.500  \n",
       "241929      16    4.300  \n",
       "241930       8    4.500  \n",
       "241931      44    4.500  \n",
       "\n",
       "[66339 rows x 6 columns]"
      ]
     },
     "execution_count": 16,
     "metadata": {},
     "output_type": "execute_result"
    }
   ],
   "source": [
    "data"
   ]
  },
  {
   "cell_type": "code",
   "execution_count": 17,
   "id": "57d2283a",
   "metadata": {},
   "outputs": [
    {
     "data": {
      "text/plain": [
       "array(['English', 'Marathi', 'German', 'Tamil', 'Hindi'], dtype=object)"
      ]
     },
     "execution_count": 17,
     "metadata": {},
     "output_type": "execute_result"
    }
   ],
   "source": [
    "data['Edition'].unique()"
   ]
  },
  {
   "cell_type": "code",
   "execution_count": 18,
   "id": "3d0fe0aa",
   "metadata": {},
   "outputs": [
    {
     "data": {
      "text/plain": [
       "Book-Title     0\n",
       "Edition        0\n",
       "Book-Author    0\n",
       "Image-URL-M    0\n",
       "Reviews        0\n",
       "Ratings        0\n",
       "dtype: int64"
      ]
     },
     "execution_count": 18,
     "metadata": {},
     "output_type": "execute_result"
    }
   ],
   "source": [
    "data.isnull().sum()"
   ]
  },
  {
   "cell_type": "code",
   "execution_count": 19,
   "id": "385b5ceb",
   "metadata": {},
   "outputs": [
    {
     "data": {
      "text/plain": [
       "(66339, 6)"
      ]
     },
     "execution_count": 19,
     "metadata": {},
     "output_type": "execute_result"
    }
   ],
   "source": [
    "data.shape"
   ]
  },
  {
   "cell_type": "code",
   "execution_count": 20,
   "id": "7de11cfe",
   "metadata": {},
   "outputs": [],
   "source": [
    "# Convert 'reviews' and 'ratings' columns to numeric types\n",
    "data['Reviews'] = pd.to_numeric(data['Reviews'], errors='coerce')\n",
    "data['Ratings'] = pd.to_numeric(data['Ratings'], errors='coerce')"
   ]
  },
  {
   "cell_type": "markdown",
   "id": "8d85058f",
   "metadata": {},
   "source": [
    "# web-page01(all 190 books we can get)(filter:language)"
   ]
  },
  {
   "cell_type": "code",
   "execution_count": 21,
   "id": "8d7c7fed",
   "metadata": {},
   "outputs": [
    {
     "name": "stdout",
     "output_type": "stream",
     "text": [
      "241077                  Bandhawarchya Babhali : Gadima Book\n",
      "241081                                          Chaughijani\n",
      "241087    Dracula (Deluxe Hardbound Edition): A Timeless...\n",
      "241088                  Dubai Gang by Surendra Mohan Pathak\n",
      "241089    Duke of Ruin: A Historical Regency Romance Nov...\n",
      "                                ...                        \n",
      "241884                                       Ek Hota Carver\n",
      "241887    Sudha Murty 3 books combo ( Marathi ) - Teen H...\n",
      "241890    George Washington Carver: A Life From Beginnin...\n",
      "241891                The Story of George Washington Carver\n",
      "241903    The Law Of Attraction: Aakarshanacha Niyam Boo...\n",
      "Name: Book-Title, Length: 190, dtype: object\n"
     ]
    }
   ],
   "source": [
    "#popularity (famous)based books\n",
    "filtered_books = data[(data['Reviews'] > 100) & (data['Ratings'] >4)]\n",
    "\n",
    "# Display the book names\n",
    "print(filtered_books['Book-Title'])"
   ]
  },
  {
   "cell_type": "code",
   "execution_count": 22,
   "id": "ef2d1be9",
   "metadata": {},
   "outputs": [],
   "source": [
    "import pickle"
   ]
  },
  {
   "cell_type": "code",
   "execution_count": 23,
   "id": "28ff0916",
   "metadata": {},
   "outputs": [],
   "source": [
    "pickle.dump(filtered_books,open('filter.pkl','wb'))"
   ]
  },
  {
   "cell_type": "code",
   "execution_count": null,
   "id": "cc46d7fb",
   "metadata": {},
   "outputs": [],
   "source": []
  },
  {
   "cell_type": "code",
   "execution_count": 24,
   "id": "90a3e2bb",
   "metadata": {},
   "outputs": [],
   "source": [
    "#end here"
   ]
  },
  {
   "cell_type": "code",
   "execution_count": 25,
   "id": "4afc115a",
   "metadata": {},
   "outputs": [],
   "source": [
    "#second part--->>>"
   ]
  },
  {
   "cell_type": "code",
   "execution_count": 26,
   "id": "47f56598",
   "metadata": {},
   "outputs": [
    {
     "data": {
      "text/plain": [
       "37021"
      ]
     },
     "execution_count": 26,
     "metadata": {},
     "output_type": "execute_result"
    }
   ],
   "source": [
    "data['Book-Author'].nunique() #37021unique value"
   ]
  },
  {
   "cell_type": "code",
   "execution_count": 27,
   "id": "84bf7305",
   "metadata": {},
   "outputs": [],
   "source": [
    "data['Edition_author']=data['Edition']+' '+data['Book-Author']"
   ]
  },
  {
   "cell_type": "code",
   "execution_count": 28,
   "id": "4135c5a6",
   "metadata": {},
   "outputs": [],
   "source": [
    "from sklearn.feature_extraction.text import TfidfVectorizer\n",
    "# Initialize the TfidfVectorizer\n",
    "tfidf = TfidfVectorizer(stop_words='english')\n",
    "# Transform the Edition_Author column into a TF-IDF matrix\n",
    "tfidf_matrix = tfidf.fit_transform(data['Edition_author'])"
   ]
  },
  {
   "cell_type": "code",
   "execution_count": 36,
   "id": "09a53273",
   "metadata": {},
   "outputs": [],
   "source": [
    "pickle.dump(tfidf_matrix,open('tfidf.pkl','wb'))"
   ]
  },
  {
   "cell_type": "code",
   "execution_count": 29,
   "id": "02131191",
   "metadata": {},
   "outputs": [
    {
     "name": "stdout",
     "output_type": "stream",
     "text": [
      "(66339, 23256)\n"
     ]
    }
   ],
   "source": [
    "\n",
    "# Check the shape of the TF-IDF matrix\n",
    "print(tfidf_matrix.shape)  # This should output (67000, number_of_features)"
   ]
  },
  {
   "cell_type": "code",
   "execution_count": 30,
   "id": "742266ac",
   "metadata": {},
   "outputs": [
    {
     "name": "stdout",
     "output_type": "stream",
     "text": [
      "Requirement already satisfied: fuzzywuzzy in c:\\users\\pj computers\\anaconda3\\anaconda1\\lib\\site-packages (0.18.0)\n"
     ]
    },
    {
     "name": "stderr",
     "output_type": "stream",
     "text": [
      "WARNING: Ignoring invalid distribution -illow (c:\\users\\pj computers\\anaconda3\\anaconda1\\lib\\site-packages)\n",
      "WARNING: Ignoring invalid distribution -illow (c:\\users\\pj computers\\anaconda3\\anaconda1\\lib\\site-packages)\n",
      "WARNING: Ignoring invalid distribution -illow (c:\\users\\pj computers\\anaconda3\\anaconda1\\lib\\site-packages)\n",
      "WARNING: Ignoring invalid distribution -illow (c:\\users\\pj computers\\anaconda3\\anaconda1\\lib\\site-packages)\n",
      "WARNING: Ignoring invalid distribution -illow (c:\\users\\pj computers\\anaconda3\\anaconda1\\lib\\site-packages)\n",
      "WARNING: Ignoring invalid distribution -illow (c:\\users\\pj computers\\anaconda3\\anaconda1\\lib\\site-packages)\n"
     ]
    }
   ],
   "source": [
    "!pip install fuzzywuzzy\n"
   ]
  },
  {
   "cell_type": "code",
   "execution_count": 31,
   "id": "b1d06d5c",
   "metadata": {},
   "outputs": [
    {
     "name": "stdout",
     "output_type": "stream",
     "text": [
      "Requirement already satisfied: python-Levenshtein in c:\\users\\pj computers\\anaconda3\\anaconda1\\lib\\site-packages (0.25.1)\n",
      "Requirement already satisfied: Levenshtein==0.25.1 in c:\\users\\pj computers\\anaconda3\\anaconda1\\lib\\site-packages (from python-Levenshtein) (0.25.1)\n",
      "Requirement already satisfied: rapidfuzz<4.0.0,>=3.8.0 in c:\\users\\pj computers\\anaconda3\\anaconda1\\lib\\site-packages (from Levenshtein==0.25.1->python-Levenshtein) (3.9.6)\n"
     ]
    },
    {
     "name": "stderr",
     "output_type": "stream",
     "text": [
      "WARNING: Ignoring invalid distribution -illow (c:\\users\\pj computers\\anaconda3\\anaconda1\\lib\\site-packages)\n",
      "WARNING: Ignoring invalid distribution -illow (c:\\users\\pj computers\\anaconda3\\anaconda1\\lib\\site-packages)\n",
      "WARNING: Ignoring invalid distribution -illow (c:\\users\\pj computers\\anaconda3\\anaconda1\\lib\\site-packages)\n",
      "WARNING: Ignoring invalid distribution -illow (c:\\users\\pj computers\\anaconda3\\anaconda1\\lib\\site-packages)\n",
      "WARNING: Ignoring invalid distribution -illow (c:\\users\\pj computers\\anaconda3\\anaconda1\\lib\\site-packages)\n",
      "WARNING: Ignoring invalid distribution -illow (c:\\users\\pj computers\\anaconda3\\anaconda1\\lib\\site-packages)\n"
     ]
    }
   ],
   "source": [
    "!pip install python-Levenshtein"
   ]
  },
  {
   "cell_type": "code",
   "execution_count": 33,
   "id": "d63ea50e",
   "metadata": {},
   "outputs": [],
   "source": [
    "from fuzzywuzzy import process\n",
    "from sklearn.metrics.pairwise import linear_kernel"
   ]
  },
  {
   "cell_type": "code",
   "execution_count": 34,
   "id": "dfbb99e8",
   "metadata": {},
   "outputs": [
    {
     "name": "stdout",
     "output_type": "stream",
     "text": [
      "Closest match found: ' Harry Potter and the Bible: The Menace Behind the Magick (And the Bible Series)' with a score of 90\n",
      "                                              Book-Title      Book-Author  \\\n",
      "12774  American Militias: Rebellion, Racism &amp; Rel...   Richard Abanes   \n",
      "41988  Cults, New Religious Movements, and Your Famil...   Richard Abanes   \n",
      "511                               101 Shaggy Dog Stories       E. Richard   \n",
      "41311  Critical Thinking: Tools for Taking Charge of ...  Richard W. Paul   \n",
      "538                           101 Uses for an Ex-Husband    Richard Smith   \n",
      "918                        2002 Days &amp; Nights of Sex    Richard Smith   \n",
      "40184                  Country Roads of Victoria 1989-90      Richard Lee   \n",
      "33490                                   Charity: Stories     Mark Richard   \n",
      "39454  Cookie Monster's Good Time to Eat (Golden Stur...    Richard Brown   \n",
      "329                              100 Words About Animals    Richard Brown   \n",
      "\n",
      "       Ratings  Reviews                                        Image-URL-M  \n",
      "12774     0.00      1.0  http://images.amazon.com/images/P/0830813683.0...  \n",
      "41988     0.00      1.0  http://images.amazon.com/images/P/0891079815.0...  \n",
      "511       0.00      1.0  http://images.amazon.com/images/P/0590404121.0...  \n",
      "41311     1.50      1.0  http://images.amazon.com/images/P/0130647608.0...  \n",
      "538       4.50      1.0  http://images.amazon.com/images/P/0446673722.0...  \n",
      "918       0.00      1.0  http://images.amazon.com/images/P/1579120458.0...  \n",
      "40184     0.00      1.0  http://images.amazon.com/images/P/0867881933.0...  \n",
      "33490     0.00      1.0  http://images.amazon.com/images/P/0385425627.0...  \n",
      "39454     2.25      2.0  http://images.amazon.com/images/P/030712259X.0...  \n",
      "329       0.00      1.0  http://images.amazon.com/images/P/0152005544.0...  \n"
     ]
    }
   ],
   "source": [
    "def get_fuzzy_recommendations(title, tfidf_matrix, data, top_n=10):\n",
    "    # Use fuzzy matching to find the closest match in the dataset\n",
    "    closest_match = process.extractOne(title, data['Book-Title'])\n",
    "    \n",
    "    # Extract the match title and score\n",
    "    match_title = closest_match[0]\n",
    "    match_score = closest_match[1]\n",
    "    \n",
    "    print(f\"Closest match found: '{match_title}' with a score of {match_score}\")\n",
    "    \n",
    "    # Get the index of the closest match\n",
    "    idx = data[data['Book-Title'] == match_title].index[0]\n",
    "    \n",
    "    # Compute the cosine similarity for this book\n",
    "    sim_scores = linear_kernel(tfidf_matrix[idx], tfidf_matrix).flatten()\n",
    "    \n",
    "    # Get the indices of the top N most similar books\n",
    "    top_indices = sim_scores.argsort()[::-1][1:top_n + 1]\n",
    "    \n",
    "    # Retrieve the details of the top N most similar books\n",
    "    top_books = data.iloc[top_indices][['Book-Title', 'Book-Author', 'Ratings', 'Reviews', 'Image-URL-M']]\n",
    "    \n",
    "    return top_books\n",
    "\n",
    "# Example usage\n",
    "try:\n",
    "    recommendations = get_fuzzy_recommendations(\"Harry Potter\", tfidf_matrix, data)\n",
    "    print(recommendations)\n",
    "except ValueError as e:\n",
    "    print(e)"
   ]
  },
  {
   "cell_type": "code",
   "execution_count": null,
   "id": "796fd88b",
   "metadata": {},
   "outputs": [],
   "source": [
    "!pip uninstall pandas -y"
   ]
  },
  {
   "cell_type": "code",
   "execution_count": null,
   "id": "5a19552c",
   "metadata": {},
   "outputs": [],
   "source": [
    "with open('data.pkl', 'wb') as f:\n",
    "    pickle.dump(data, f)\n",
    "\n",
    "with open('tfidf_matrix.pkl', 'wb') as f:\n",
    "    pickle.dump(tfidf_matrix, f)"
   ]
  }
 ],
 "metadata": {
  "kernelspec": {
   "display_name": "Python 3 (ipykernel)",
   "language": "python",
   "name": "python3"
  },
  "language_info": {
   "codemirror_mode": {
    "name": "ipython",
    "version": 3
   },
   "file_extension": ".py",
   "mimetype": "text/x-python",
   "name": "python",
   "nbconvert_exporter": "python",
   "pygments_lexer": "ipython3",
   "version": "3.9.12"
  }
 },
 "nbformat": 4,
 "nbformat_minor": 5
}
